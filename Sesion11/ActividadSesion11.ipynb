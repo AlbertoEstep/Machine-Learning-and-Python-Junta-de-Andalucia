{
 "cells": [
  {
   "cell_type": "markdown",
   "metadata": {},
   "source": [
    "# Ejemplo Keras y Tensorflow"
   ]
  },
  {
   "cell_type": "markdown",
   "metadata": {},
   "source": [
    "## Ejemplo 1"
   ]
  },
  {
   "cell_type": "markdown",
   "metadata": {},
   "source": [
    "Para el ejemplo, utilizaremos las compuertas NAND. Recordemos que funcionan de la siguiente manera:\n",
    "\n",
    "Tenemos dos entradas binarias (1 ó 0) y la salida será 0 sólo si las dos entradas son verdadera (1).\n",
    "\n",
    "Es decir que de cuatro combinaciones posibles, sólo una tiene salida 0 y las otras tres serán 1, como vemos aquí:\n",
    "\n",
    "- NAND(0,0) = 1\n",
    "- NAND(0,1) = 1\n",
    "- NAND(1,0) = 1\n",
    "- NAND(1,1) = 0\n"
   ]
  },
  {
   "cell_type": "markdown",
   "metadata": {},
   "source": [
    "Primero importamos las clases que utilizaremos:"
   ]
  },
  {
   "cell_type": "code",
   "execution_count": 1,
   "metadata": {},
   "outputs": [
    {
     "name": "stderr",
     "output_type": "stream",
     "text": [
      "Using TensorFlow backend.\n",
      "/home/alberto/.local/lib/python3.6/site-packages/tensorflow/python/framework/dtypes.py:516: FutureWarning: Passing (type, 1) or '1type' as a synonym of type is deprecated; in a future version of numpy, it will be understood as (type, (1,)) / '(1,)type'.\n",
      "  _np_qint8 = np.dtype([(\"qint8\", np.int8, 1)])\n",
      "/home/alberto/.local/lib/python3.6/site-packages/tensorflow/python/framework/dtypes.py:517: FutureWarning: Passing (type, 1) or '1type' as a synonym of type is deprecated; in a future version of numpy, it will be understood as (type, (1,)) / '(1,)type'.\n",
      "  _np_quint8 = np.dtype([(\"quint8\", np.uint8, 1)])\n",
      "/home/alberto/.local/lib/python3.6/site-packages/tensorflow/python/framework/dtypes.py:518: FutureWarning: Passing (type, 1) or '1type' as a synonym of type is deprecated; in a future version of numpy, it will be understood as (type, (1,)) / '(1,)type'.\n",
      "  _np_qint16 = np.dtype([(\"qint16\", np.int16, 1)])\n",
      "/home/alberto/.local/lib/python3.6/site-packages/tensorflow/python/framework/dtypes.py:519: FutureWarning: Passing (type, 1) or '1type' as a synonym of type is deprecated; in a future version of numpy, it will be understood as (type, (1,)) / '(1,)type'.\n",
      "  _np_quint16 = np.dtype([(\"quint16\", np.uint16, 1)])\n",
      "/home/alberto/.local/lib/python3.6/site-packages/tensorflow/python/framework/dtypes.py:520: FutureWarning: Passing (type, 1) or '1type' as a synonym of type is deprecated; in a future version of numpy, it will be understood as (type, (1,)) / '(1,)type'.\n",
      "  _np_qint32 = np.dtype([(\"qint32\", np.int32, 1)])\n",
      "/home/alberto/.local/lib/python3.6/site-packages/tensorflow/python/framework/dtypes.py:525: FutureWarning: Passing (type, 1) or '1type' as a synonym of type is deprecated; in a future version of numpy, it will be understood as (type, (1,)) / '(1,)type'.\n",
      "  np_resource = np.dtype([(\"resource\", np.ubyte, 1)])\n",
      "/home/alberto/.local/lib/python3.6/site-packages/tensorboard/compat/tensorflow_stub/dtypes.py:541: FutureWarning: Passing (type, 1) or '1type' as a synonym of type is deprecated; in a future version of numpy, it will be understood as (type, (1,)) / '(1,)type'.\n",
      "  _np_qint8 = np.dtype([(\"qint8\", np.int8, 1)])\n",
      "/home/alberto/.local/lib/python3.6/site-packages/tensorboard/compat/tensorflow_stub/dtypes.py:542: FutureWarning: Passing (type, 1) or '1type' as a synonym of type is deprecated; in a future version of numpy, it will be understood as (type, (1,)) / '(1,)type'.\n",
      "  _np_quint8 = np.dtype([(\"quint8\", np.uint8, 1)])\n",
      "/home/alberto/.local/lib/python3.6/site-packages/tensorboard/compat/tensorflow_stub/dtypes.py:543: FutureWarning: Passing (type, 1) or '1type' as a synonym of type is deprecated; in a future version of numpy, it will be understood as (type, (1,)) / '(1,)type'.\n",
      "  _np_qint16 = np.dtype([(\"qint16\", np.int16, 1)])\n",
      "/home/alberto/.local/lib/python3.6/site-packages/tensorboard/compat/tensorflow_stub/dtypes.py:544: FutureWarning: Passing (type, 1) or '1type' as a synonym of type is deprecated; in a future version of numpy, it will be understood as (type, (1,)) / '(1,)type'.\n",
      "  _np_quint16 = np.dtype([(\"quint16\", np.uint16, 1)])\n",
      "/home/alberto/.local/lib/python3.6/site-packages/tensorboard/compat/tensorflow_stub/dtypes.py:545: FutureWarning: Passing (type, 1) or '1type' as a synonym of type is deprecated; in a future version of numpy, it will be understood as (type, (1,)) / '(1,)type'.\n",
      "  _np_qint32 = np.dtype([(\"qint32\", np.int32, 1)])\n",
      "/home/alberto/.local/lib/python3.6/site-packages/tensorboard/compat/tensorflow_stub/dtypes.py:550: FutureWarning: Passing (type, 1) or '1type' as a synonym of type is deprecated; in a future version of numpy, it will be understood as (type, (1,)) / '(1,)type'.\n",
      "  np_resource = np.dtype([(\"resource\", np.ubyte, 1)])\n"
     ]
    }
   ],
   "source": [
    "import numpy as np\n",
    "from keras.models import Sequential\n",
    "from keras.layers.core import Dense\n",
    "import warnings\n",
    "warnings.filterwarnings('ignore')\n",
    "warnings.simplefilter('ignore')"
   ]
  },
  {
   "cell_type": "markdown",
   "metadata": {},
   "source": [
    "Utilizaremos numpy para el manejo de arrays. De Keras importamos el tipo de modelo Sequential y el tipo de capa Dense que es la «normal».\n",
    "\n",
    "Creamos los arrays de entrada y salida."
   ]
  },
  {
   "cell_type": "code",
   "execution_count": 2,
   "metadata": {},
   "outputs": [],
   "source": [
    "# cargamos las 4 combinaciones de las compuertas NAND\n",
    "training_data = np.array([[0,0],[0,1],[1,0],[1,1]], \"float32\")\n",
    " \n",
    "# y estos son los resultados que se obtienen, en el mismo orden\n",
    "target_data = np.array([[1],[1],[1],[0]], \"float32\")"
   ]
  },
  {
   "cell_type": "markdown",
   "metadata": {},
   "source": [
    "Como se puede ver son las cuatro entradas posibles de la función NAND [0,0], [0,1], [1,0],[1,1] y sus cuatro salidas: 1, 1,1,0.\n",
    "Ahora crearemos la arquitectura de nuestra red neuronal:"
   ]
  },
  {
   "cell_type": "code",
   "execution_count": 3,
   "metadata": {},
   "outputs": [],
   "source": [
    "model = Sequential()\n",
    "model.add(Dense(16, input_dim=2, activation='relu'))\n",
    "model.add(Dense(1, activation='sigmoid'))"
   ]
  },
  {
   "cell_type": "markdown",
   "metadata": {},
   "source": [
    "Primero creamos un modelo vacío de tipo Sequential. Este modelo se refiere a que crearemos una serie de capas de neuronas secuenciales, «una delante de otra».\n",
    "\n",
    "Agregamos dos capas Dense con «model.add()». Realmente serán 3 capas, pues al poner input_dim=2 estamos definiendo la capa de entrada con 2 neuronas (para nuestras entradas de la función NAND) y la primer capa oculta (hidden) de 16 neuronas. Como función de activación utilizaremos «relu» que sabemos que da buenos resultados. Podría ser otra función, esto es un mero ejemplo, y según la implementación de la red que haremos, deberemos variar la cantidad de neuronas, capas y sus funciones de activación.\n",
    "\n",
    "Y agregamos una capa con 1 neurona de salida y función de activación sigmoid.\n",
    "\n",
    "Antes de de entrenar la red haremos unos ajustes de nuestro modelo:"
   ]
  },
  {
   "cell_type": "code",
   "execution_count": 4,
   "metadata": {},
   "outputs": [],
   "source": [
    "model.compile(loss='mean_squared_error',\n",
    "              optimizer='adam',\n",
    "              metrics=['binary_accuracy'])"
   ]
  },
  {
   "cell_type": "markdown",
   "metadata": {},
   "source": [
    "Con esto indicamos el tipo de pérdida (loss) que utilizaremos, el «optimizador» de los pesos de las conexiones de las neuronas y las métricas que queremos obtener.\n",
    "\n",
    "Ahora sí que entrenaremos la red:"
   ]
  },
  {
   "cell_type": "code",
   "execution_count": 5,
   "metadata": {},
   "outputs": [
    {
     "name": "stdout",
     "output_type": "stream",
     "text": [
      "WARNING:tensorflow:From /home/alberto/.local/lib/python3.6/site-packages/keras/backend/tensorflow_backend.py:422: The name tf.global_variables is deprecated. Please use tf.compat.v1.global_variables instead.\n",
      "\n",
      "Epoch 1/100\n",
      "4/4 [==============================] - 0s 28ms/step - loss: 0.2636 - binary_accuracy: 0.5000\n",
      "Epoch 2/100\n",
      "4/4 [==============================] - 0s 314us/step - loss: 0.2628 - binary_accuracy: 0.7500\n",
      "Epoch 3/100\n",
      "4/4 [==============================] - 0s 281us/step - loss: 0.2621 - binary_accuracy: 0.7500\n",
      "Epoch 4/100\n",
      "4/4 [==============================] - 0s 346us/step - loss: 0.2613 - binary_accuracy: 0.7500\n",
      "Epoch 5/100\n",
      "4/4 [==============================] - 0s 334us/step - loss: 0.2605 - binary_accuracy: 0.7500\n",
      "Epoch 6/100\n",
      "4/4 [==============================] - 0s 432us/step - loss: 0.2598 - binary_accuracy: 0.7500\n",
      "Epoch 7/100\n",
      "4/4 [==============================] - 0s 355us/step - loss: 0.2590 - binary_accuracy: 0.7500\n",
      "Epoch 8/100\n",
      "4/4 [==============================] - 0s 348us/step - loss: 0.2582 - binary_accuracy: 0.7500\n",
      "Epoch 9/100\n",
      "4/4 [==============================] - 0s 399us/step - loss: 0.2575 - binary_accuracy: 0.7500\n",
      "Epoch 10/100\n",
      "4/4 [==============================] - 0s 373us/step - loss: 0.2567 - binary_accuracy: 0.7500\n",
      "Epoch 11/100\n",
      "4/4 [==============================] - 0s 358us/step - loss: 0.2559 - binary_accuracy: 0.7500\n",
      "Epoch 12/100\n",
      "4/4 [==============================] - 0s 398us/step - loss: 0.2552 - binary_accuracy: 0.7500\n",
      "Epoch 13/100\n",
      "4/4 [==============================] - 0s 369us/step - loss: 0.2544 - binary_accuracy: 0.7500\n",
      "Epoch 14/100\n",
      "4/4 [==============================] - 0s 384us/step - loss: 0.2536 - binary_accuracy: 0.7500\n",
      "Epoch 15/100\n",
      "4/4 [==============================] - 0s 306us/step - loss: 0.2529 - binary_accuracy: 0.7500\n",
      "Epoch 16/100\n",
      "4/4 [==============================] - 0s 369us/step - loss: 0.2523 - binary_accuracy: 0.7500\n",
      "Epoch 17/100\n",
      "4/4 [==============================] - 0s 363us/step - loss: 0.2516 - binary_accuracy: 0.7500\n",
      "Epoch 18/100\n",
      "4/4 [==============================] - 0s 309us/step - loss: 0.2509 - binary_accuracy: 0.7500\n",
      "Epoch 19/100\n",
      "4/4 [==============================] - 0s 342us/step - loss: 0.2503 - binary_accuracy: 0.7500\n",
      "Epoch 20/100\n",
      "4/4 [==============================] - 0s 309us/step - loss: 0.2496 - binary_accuracy: 0.7500\n",
      "Epoch 21/100\n",
      "4/4 [==============================] - 0s 538us/step - loss: 0.2490 - binary_accuracy: 0.7500\n",
      "Epoch 22/100\n",
      "4/4 [==============================] - 0s 393us/step - loss: 0.2484 - binary_accuracy: 0.7500\n",
      "Epoch 23/100\n",
      "4/4 [==============================] - 0s 356us/step - loss: 0.2477 - binary_accuracy: 0.7500\n",
      "Epoch 24/100\n",
      "4/4 [==============================] - 0s 278us/step - loss: 0.2471 - binary_accuracy: 0.7500\n",
      "Epoch 25/100\n",
      "4/4 [==============================] - 0s 251us/step - loss: 0.2464 - binary_accuracy: 0.7500\n",
      "Epoch 26/100\n",
      "4/4 [==============================] - 0s 278us/step - loss: 0.2458 - binary_accuracy: 0.7500\n",
      "Epoch 27/100\n",
      "4/4 [==============================] - 0s 301us/step - loss: 0.2452 - binary_accuracy: 0.7500\n",
      "Epoch 28/100\n",
      "4/4 [==============================] - 0s 224us/step - loss: 0.2445 - binary_accuracy: 0.7500\n",
      "Epoch 29/100\n",
      "4/4 [==============================] - 0s 317us/step - loss: 0.2439 - binary_accuracy: 0.7500\n",
      "Epoch 30/100\n",
      "4/4 [==============================] - 0s 247us/step - loss: 0.2433 - binary_accuracy: 0.7500\n",
      "Epoch 31/100\n",
      "4/4 [==============================] - 0s 324us/step - loss: 0.2427 - binary_accuracy: 0.7500\n",
      "Epoch 32/100\n",
      "4/4 [==============================] - 0s 307us/step - loss: 0.2421 - binary_accuracy: 0.7500\n",
      "Epoch 33/100\n",
      "4/4 [==============================] - 0s 347us/step - loss: 0.2415 - binary_accuracy: 0.7500\n",
      "Epoch 34/100\n",
      "4/4 [==============================] - 0s 304us/step - loss: 0.2409 - binary_accuracy: 0.7500\n",
      "Epoch 35/100\n",
      "4/4 [==============================] - 0s 393us/step - loss: 0.2402 - binary_accuracy: 0.7500\n",
      "Epoch 36/100\n",
      "4/4 [==============================] - 0s 370us/step - loss: 0.2396 - binary_accuracy: 0.7500\n",
      "Epoch 37/100\n",
      "4/4 [==============================] - 0s 362us/step - loss: 0.2390 - binary_accuracy: 0.7500\n",
      "Epoch 38/100\n",
      "4/4 [==============================] - 0s 398us/step - loss: 0.2384 - binary_accuracy: 0.7500\n",
      "Epoch 39/100\n",
      "4/4 [==============================] - 0s 356us/step - loss: 0.2378 - binary_accuracy: 0.7500\n",
      "Epoch 40/100\n",
      "4/4 [==============================] - 0s 1ms/step - loss: 0.2373 - binary_accuracy: 0.7500\n",
      "Epoch 41/100\n",
      "4/4 [==============================] - 0s 304us/step - loss: 0.2367 - binary_accuracy: 0.7500\n",
      "Epoch 42/100\n",
      "4/4 [==============================] - 0s 349us/step - loss: 0.2361 - binary_accuracy: 0.7500\n",
      "Epoch 43/100\n",
      "4/4 [==============================] - 0s 549us/step - loss: 0.2355 - binary_accuracy: 0.7500\n",
      "Epoch 44/100\n",
      "4/4 [==============================] - 0s 337us/step - loss: 0.2349 - binary_accuracy: 0.7500\n",
      "Epoch 45/100\n",
      "4/4 [==============================] - 0s 319us/step - loss: 0.2343 - binary_accuracy: 0.7500\n",
      "Epoch 46/100\n",
      "4/4 [==============================] - 0s 325us/step - loss: 0.2337 - binary_accuracy: 0.7500\n",
      "Epoch 47/100\n",
      "4/4 [==============================] - 0s 315us/step - loss: 0.2332 - binary_accuracy: 0.7500\n",
      "Epoch 48/100\n",
      "4/4 [==============================] - 0s 288us/step - loss: 0.2326 - binary_accuracy: 0.7500\n",
      "Epoch 49/100\n",
      "4/4 [==============================] - 0s 329us/step - loss: 0.2321 - binary_accuracy: 0.7500\n",
      "Epoch 50/100\n",
      "4/4 [==============================] - 0s 324us/step - loss: 0.2315 - binary_accuracy: 0.7500\n",
      "Epoch 51/100\n",
      "4/4 [==============================] - 0s 311us/step - loss: 0.2309 - binary_accuracy: 0.7500\n",
      "Epoch 52/100\n",
      "4/4 [==============================] - 0s 506us/step - loss: 0.2303 - binary_accuracy: 0.7500\n",
      "Epoch 53/100\n",
      "4/4 [==============================] - 0s 312us/step - loss: 0.2298 - binary_accuracy: 0.7500\n",
      "Epoch 54/100\n",
      "4/4 [==============================] - 0s 265us/step - loss: 0.2292 - binary_accuracy: 0.7500\n",
      "Epoch 55/100\n",
      "4/4 [==============================] - 0s 228us/step - loss: 0.2287 - binary_accuracy: 0.7500\n",
      "Epoch 56/100\n",
      "4/4 [==============================] - 0s 263us/step - loss: 0.2281 - binary_accuracy: 0.7500\n",
      "Epoch 57/100\n",
      "4/4 [==============================] - 0s 284us/step - loss: 0.2276 - binary_accuracy: 0.7500\n",
      "Epoch 58/100\n",
      "4/4 [==============================] - 0s 269us/step - loss: 0.2270 - binary_accuracy: 0.7500\n",
      "Epoch 59/100\n",
      "4/4 [==============================] - 0s 299us/step - loss: 0.2265 - binary_accuracy: 0.7500\n",
      "Epoch 60/100\n",
      "4/4 [==============================] - 0s 301us/step - loss: 0.2259 - binary_accuracy: 0.7500\n",
      "Epoch 61/100\n",
      "4/4 [==============================] - 0s 237us/step - loss: 0.2254 - binary_accuracy: 0.7500\n",
      "Epoch 62/100\n",
      "4/4 [==============================] - 0s 339us/step - loss: 0.2249 - binary_accuracy: 0.7500\n",
      "Epoch 63/100\n",
      "4/4 [==============================] - 0s 414us/step - loss: 0.2243 - binary_accuracy: 0.7500\n",
      "Epoch 64/100\n",
      "4/4 [==============================] - 0s 308us/step - loss: 0.2237 - binary_accuracy: 0.7500\n",
      "Epoch 65/100\n",
      "4/4 [==============================] - 0s 355us/step - loss: 0.2232 - binary_accuracy: 0.7500\n",
      "Epoch 66/100\n",
      "4/4 [==============================] - 0s 344us/step - loss: 0.2226 - binary_accuracy: 0.7500\n",
      "Epoch 67/100\n",
      "4/4 [==============================] - 0s 405us/step - loss: 0.2221 - binary_accuracy: 0.7500\n",
      "Epoch 68/100\n",
      "4/4 [==============================] - 0s 277us/step - loss: 0.2215 - binary_accuracy: 0.7500\n",
      "Epoch 69/100\n",
      "4/4 [==============================] - 0s 385us/step - loss: 0.2209 - binary_accuracy: 0.7500\n",
      "Epoch 70/100\n",
      "4/4 [==============================] - 0s 322us/step - loss: 0.2204 - binary_accuracy: 0.7500\n",
      "Epoch 71/100\n",
      "4/4 [==============================] - 0s 704us/step - loss: 0.2198 - binary_accuracy: 0.7500\n",
      "Epoch 72/100\n",
      "4/4 [==============================] - 0s 300us/step - loss: 0.2193 - binary_accuracy: 0.7500\n",
      "Epoch 73/100\n",
      "4/4 [==============================] - 0s 295us/step - loss: 0.2188 - binary_accuracy: 0.7500\n",
      "Epoch 74/100\n",
      "4/4 [==============================] - 0s 263us/step - loss: 0.2183 - binary_accuracy: 0.7500\n",
      "Epoch 75/100\n",
      "4/4 [==============================] - 0s 224us/step - loss: 0.2177 - binary_accuracy: 0.7500\n"
     ]
    },
    {
     "name": "stdout",
     "output_type": "stream",
     "text": [
      "Epoch 76/100\n",
      "4/4 [==============================] - 0s 382us/step - loss: 0.2172 - binary_accuracy: 0.7500\n",
      "Epoch 77/100\n",
      "4/4 [==============================] - 0s 371us/step - loss: 0.2167 - binary_accuracy: 0.7500\n",
      "Epoch 78/100\n",
      "4/4 [==============================] - 0s 334us/step - loss: 0.2162 - binary_accuracy: 0.7500\n",
      "Epoch 79/100\n",
      "4/4 [==============================] - 0s 317us/step - loss: 0.2157 - binary_accuracy: 0.7500\n",
      "Epoch 80/100\n",
      "4/4 [==============================] - 0s 449us/step - loss: 0.2152 - binary_accuracy: 0.7500\n",
      "Epoch 81/100\n",
      "4/4 [==============================] - 0s 541us/step - loss: 0.2147 - binary_accuracy: 0.7500\n",
      "Epoch 82/100\n",
      "4/4 [==============================] - 0s 746us/step - loss: 0.2142 - binary_accuracy: 0.7500\n",
      "Epoch 83/100\n",
      "4/4 [==============================] - 0s 402us/step - loss: 0.2137 - binary_accuracy: 0.7500\n",
      "Epoch 84/100\n",
      "4/4 [==============================] - 0s 303us/step - loss: 0.2131 - binary_accuracy: 0.7500\n",
      "Epoch 85/100\n",
      "4/4 [==============================] - 0s 346us/step - loss: 0.2126 - binary_accuracy: 0.7500\n",
      "Epoch 86/100\n",
      "4/4 [==============================] - 0s 321us/step - loss: 0.2121 - binary_accuracy: 0.7500\n",
      "Epoch 87/100\n",
      "4/4 [==============================] - 0s 295us/step - loss: 0.2116 - binary_accuracy: 0.7500\n",
      "Epoch 88/100\n",
      "4/4 [==============================] - 0s 392us/step - loss: 0.2111 - binary_accuracy: 0.7500\n",
      "Epoch 89/100\n",
      "4/4 [==============================] - 0s 308us/step - loss: 0.2106 - binary_accuracy: 0.7500\n",
      "Epoch 90/100\n",
      "4/4 [==============================] - 0s 286us/step - loss: 0.2101 - binary_accuracy: 0.7500\n",
      "Epoch 91/100\n",
      "4/4 [==============================] - 0s 280us/step - loss: 0.2096 - binary_accuracy: 0.7500\n",
      "Epoch 92/100\n",
      "4/4 [==============================] - 0s 313us/step - loss: 0.2091 - binary_accuracy: 0.7500\n",
      "Epoch 93/100\n",
      "4/4 [==============================] - 0s 470us/step - loss: 0.2086 - binary_accuracy: 0.7500\n",
      "Epoch 94/100\n",
      "4/4 [==============================] - 0s 424us/step - loss: 0.2081 - binary_accuracy: 0.7500\n",
      "Epoch 95/100\n",
      "4/4 [==============================] - 0s 368us/step - loss: 0.2076 - binary_accuracy: 0.7500\n",
      "Epoch 96/100\n",
      "4/4 [==============================] - 0s 284us/step - loss: 0.2071 - binary_accuracy: 0.7500\n",
      "Epoch 97/100\n",
      "4/4 [==============================] - 0s 294us/step - loss: 0.2066 - binary_accuracy: 0.7500\n",
      "Epoch 98/100\n",
      "4/4 [==============================] - 0s 403us/step - loss: 0.2061 - binary_accuracy: 0.7500\n",
      "Epoch 99/100\n",
      "4/4 [==============================] - 0s 362us/step - loss: 0.2056 - binary_accuracy: 0.7500\n",
      "Epoch 100/100\n",
      "4/4 [==============================] - 0s 349us/step - loss: 0.2051 - binary_accuracy: 0.7500\n"
     ]
    },
    {
     "data": {
      "text/plain": [
       "<keras.callbacks.callbacks.History at 0x7fcc3c18e0b8>"
      ]
     },
     "execution_count": 5,
     "metadata": {},
     "output_type": "execute_result"
    }
   ],
   "source": [
    "model.fit(training_data, target_data, epochs=100)"
   ]
  },
  {
   "cell_type": "markdown",
   "metadata": {},
   "source": [
    "Indicamos con model.fit() las entradas y sus salidas y la cantidad de iteraciones de aprendizaje (epochs) de entrenamiento. Toca evaluar el modelo:"
   ]
  },
  {
   "cell_type": "code",
   "execution_count": 6,
   "metadata": {},
   "outputs": [
    {
     "name": "stdout",
     "output_type": "stream",
     "text": [
      "4/4 [==============================] - 0s 4ms/step\n",
      "\n",
      "binary_accuracy: 75.00%\n"
     ]
    }
   ],
   "source": [
    "scores = model.evaluate(training_data, target_data)\n",
    "print(\"\\n%s: %.2f%%\" % (model.metrics_names[1], scores[1]*100))"
   ]
  },
  {
   "cell_type": "markdown",
   "metadata": {},
   "source": [
    "Y vemos que tuvimos un 100% de precisión (recordemos lo trivial de este ejemplo).\n",
    "\n",
    "Y hacemos las 4 predicciones posibles de NAND, pasando nuestras entradas:"
   ]
  },
  {
   "cell_type": "code",
   "execution_count": 7,
   "metadata": {
    "scrolled": true
   },
   "outputs": [
    {
     "name": "stdout",
     "output_type": "stream",
     "text": [
      "[[1.]\n",
      " [1.]\n",
      " [1.]\n",
      " [1.]]\n"
     ]
    }
   ],
   "source": [
    "print (model.predict(training_data).round())"
   ]
  },
  {
   "cell_type": "markdown",
   "metadata": {},
   "source": [
    "y vemos las salidas 1,1,1,0 que son las correctas."
   ]
  },
  {
   "cell_type": "markdown",
   "metadata": {},
   "source": [
    "Ejemplo extraído de: <https://www.aprendemachinelearning.com/una-sencilla-red-neuronal-en-python-con-keras-y-tensorflow/> y modificado."
   ]
  }
 ],
 "metadata": {
  "kernelspec": {
   "display_name": "Python 3",
   "language": "python",
   "name": "python3"
  },
  "language_info": {
   "codemirror_mode": {
    "name": "ipython",
    "version": 3
   },
   "file_extension": ".py",
   "mimetype": "text/x-python",
   "name": "python",
   "nbconvert_exporter": "python",
   "pygments_lexer": "ipython3",
   "version": "3.6.8"
  }
 },
 "nbformat": 4,
 "nbformat_minor": 4
}
