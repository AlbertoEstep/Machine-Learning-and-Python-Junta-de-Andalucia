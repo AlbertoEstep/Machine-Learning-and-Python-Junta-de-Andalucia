{
 "cells": [
  {
   "cell_type": "markdown",
   "metadata": {},
   "source": [
    "# Calcular el i-ésimo valor de la serie de Fibonacci"
   ]
  },
  {
   "cell_type": "markdown",
   "metadata": {},
   "source": [
    "Suponemos que fibonacci(1) = 0, fibonacci(2) = 1, etc."
   ]
  },
  {
   "cell_type": "code",
   "execution_count": 1,
   "metadata": {},
   "outputs": [],
   "source": [
    "def fibonacci(n): \n",
    "    a = 0\n",
    "    b = 1\n",
    "    if n <= 0: \n",
    "        print(\"Incorrect input\") \n",
    "    elif n == 1: \n",
    "        return a \n",
    "    else: \n",
    "        for i in range(2,n): \n",
    "            c = a + b \n",
    "            a = b \n",
    "            b = c \n",
    "        return b "
   ]
  },
  {
   "cell_type": "code",
   "execution_count": 2,
   "metadata": {},
   "outputs": [
    {
     "data": {
      "text/plain": [
       "[0, 1, 1, 2, 3, 5, 8, 13, 21, 34, 55, 89, 144, 233, 377, 610, 987, 1597, 2584]"
      ]
     },
     "execution_count": 2,
     "metadata": {},
     "output_type": "execute_result"
    }
   ],
   "source": [
    "# Testeamos\n",
    "\n",
    "serie_fibonacci = []\n",
    "\n",
    "for i in range (1, 20):\n",
    "    serie_fibonacci.append(fibonacci(i))\n",
    "\n",
    "serie_fibonacci"
   ]
  }
 ],
 "metadata": {
  "kernelspec": {
   "display_name": "Python 3",
   "language": "python",
   "name": "python3"
  },
  "language_info": {
   "codemirror_mode": {
    "name": "ipython",
    "version": 3
   },
   "file_extension": ".py",
   "mimetype": "text/x-python",
   "name": "python",
   "nbconvert_exporter": "python",
   "pygments_lexer": "ipython3",
   "version": "3.6.8"
  }
 },
 "nbformat": 4,
 "nbformat_minor": 4
}
